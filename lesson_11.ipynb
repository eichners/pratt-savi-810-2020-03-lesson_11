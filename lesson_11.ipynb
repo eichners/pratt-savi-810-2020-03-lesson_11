{
 "cells": [
  {
   "cell_type": "markdown",
   "metadata": {},
   "source": [
    "# Lesson 11\n",
    "\n",
    "# Managing data retrieval workflows with Requests, Unzipping files, concatenating DataFrames; Wrap-up Additional Mapping Functionality with Matplotlib\n",
    "\n",
    "\n",
    "\n",
    "![http://www.pratt.edu/tiny_mce/plugins/imagemanager/files/Light_brown_blue22.jpg](http://www.pratt.edu/tiny_mce/plugins/imagemanager/files/Light_brown_blue22.jpg)\n",
    "\n",
    "# Class Links\n",
    "\n",
    "* [Syllabus](https://docs.google.com/document/d/1KHxT-NkaoXXdSNkK8JlzL2FFgmNoxPQ25fwgtXPnbrY)\n",
    "\n",
    "* [Class Google Spreadsheet](https://docs.google.com/spreadsheets/d/1t481r7HjQBbjNtFOABSOlcckzQhdrh12TCzpSYKurI0/edit?usp=sharing)\n",
    "\n",
    "* [Google Meetup Video Hangout](https://meet.google.com/aym-kxae-bzr)\n",
    "\n",
    "  * For United States Dial +1 \n",
    "    * (669) 220-6376\n",
    "  * Enter this PIN when prompted: \n",
    "    * 891 126 706 #\n",
    "  \n",
    "* [GitHub Organization](https://github.com/pratt-savi-810)\n",
    "\n",
    "* [Slack Organization](https://app.slack.com/client/T01068MA75X/C010J3Q2QET)\n",
    "\n",
    "* [Resources](https://github.com/pratt-savi-810/resources)"
   ]
  },
  {
   "cell_type": "markdown",
   "metadata": {
    "toc": true
   },
   "source": [
    "<h1>Table of Contents<span class=\"tocSkip\"></span></h1>\n",
    "<div class=\"toc\"><ul class=\"toc-item\"><li><span><a href=\"#Lesson-11\" data-toc-modified-id=\"Lesson-11-1\">Lesson 11</a></span></li><li><span><a href=\"#Managing-data-retrieval-workflows-with-Requests,-Unzipping-files,-concatenating-DataFrames;-Wrap-up-Additional-Mapping-Functionality-with-Matplotlib\" data-toc-modified-id=\"Managing-data-retrieval-workflows-with-Requests,-Unzipping-files,-concatenating-DataFrames;-Wrap-up-Additional-Mapping-Functionality-with-Matplotlib-2\">Managing data retrieval workflows with Requests, Unzipping files, concatenating DataFrames; Wrap-up Additional Mapping Functionality with Matplotlib</a></span></li><li><span><a href=\"#Class-Links\" data-toc-modified-id=\"Class-Links-3\">Class Links</a></span></li><li><span><a href=\"#Learning-Objectives\" data-toc-modified-id=\"Learning-Objectives-4\">Learning Objectives</a></span><ul class=\"toc-item\"><li><ul class=\"toc-item\"><li><span><a href=\"#Fork-and-Clone-this-Lesson-Repo\" data-toc-modified-id=\"Fork-and-Clone-this-Lesson-Repo-4.0.1\">Fork and Clone this Lesson Repo</a></span></li></ul></li></ul></li><li><span><a href=\"#Import-Libraries\" data-toc-modified-id=\"Import-Libraries-5\">Import Libraries</a></span></li><li><span><a href=\"#Downloading-Files-from-the-internet-with-urllib.\" data-toc-modified-id=\"Downloading-Files-from-the-internet-with-urllib.-6\">Downloading Files from the internet with <code>urllib</code>.</a></span><ul class=\"toc-item\"><li><ul class=\"toc-item\"><li><span><a href=\"#How-to:-Fetch-Internet-Resources-Using-The-urllib-Package\" data-toc-modified-id=\"How-to:-Fetch-Internet-Resources-Using-The-urllib-Package-6.0.1\"><a href=\"https://docs.python.org/3/howto/urllib2.html\" target=\"_blank\">How to: Fetch Internet Resources Using The urllib Package</a></a></span><ul class=\"toc-item\"><li><span><a href=\"#Let's-import-urllib.request\" data-toc-modified-id=\"Let's-import-urllib.request-6.0.1.1\">Let's import <code>urllib.request</code></a></span></li></ul></li></ul></li><li><span><a href=\"#Downloading-files-with-urllib-example.\" data-toc-modified-id=\"Downloading-files-with-urllib-example.-6.1\">Downloading files with <code>urllib</code> example.</a></span><ul class=\"toc-item\"><li><ul class=\"toc-item\"><li><span><a href=\"#An-example-of-where-we-may-want-to-request-and-download-files-may-be-Shapefiles-from-the-US-Census-Website\" data-toc-modified-id=\"An-example-of-where-we-may-want-to-request-and-download-files-may-be-Shapefiles-from-the-US-Census-Website-6.1.0.1\">An example of where we may want to request and download files may be Shapefiles from the US Census Website</a></span></li><li><span><a href=\"#Each-State-Census-Tract-Shapefile-is-zipped-into-a-.zip-file-and-has-it's-own-URL-endpoint.\" data-toc-modified-id=\"Each-State-Census-Tract-Shapefile-is-zipped-into-a-.zip-file-and-has-it's-own-URL-endpoint.-6.1.0.2\">Each State Census Tract Shapefile is zipped into a .zip file and has it's own URL endpoint.</a></span></li><li><span><a href=\"#From-urllib.reqeust,-let's-use-urlretrieve()-to-access-this-url-for-this-file-and-download-it.\" data-toc-modified-id=\"From-urllib.reqeust,-let's-use-urlretrieve()-to-access-this-url-for-this-file-and-download-it.-6.1.0.3\">From <code>urllib.reqeust</code>, let's use <code>urlretrieve()</code> to access this url for this file and download it.</a></span></li><li><span><a href=\"#Now-let's-say-we-wanted-to-get-all-the-State-Tract-Shapefiles-for-States-in-New-England\" data-toc-modified-id=\"Now-let's-say-we-wanted-to-get-all-the-State-Tract-Shapefiles-for-States-in-New-England-6.1.0.4\">Now let's say we wanted to get all the State Tract Shapefiles for States in New England</a></span></li><li><span><a href=\"#Create-a-loop\" data-toc-modified-id=\"Create-a-loop-6.1.0.5\">Create a loop</a></span></li><li><span><a href=\"#Unzipping-.zip-files-in-Python\" data-toc-modified-id=\"Unzipping-.zip-files-in-Python-6.1.0.6\">Unzipping <code>.zip</code> files in Python</a></span></li><li><span><a href=\"#Import-zipfile\" data-toc-modified-id=\"Import-zipfile-6.1.0.7\">Import <code>zipfile</code></a></span></li><li><span><a href=\"#Read-our-zipfile-as-a-ZipFile\" data-toc-modified-id=\"Read-our-zipfile-as-a-ZipFile-6.1.0.8\">Read our zipfile as a <code>ZipFile</code></a></span></li><li><span><a href=\"#Let's-extract-our-zipfile-object-z\" data-toc-modified-id=\"Let's-extract-our-zipfile-object-z-6.1.0.9\">Let's extract our zipfile object <code>z</code></a></span></li><li><span><a href=\"#Now-let's-loop-through-our-New-England-Zipped-Shapefiles\" data-toc-modified-id=\"Now-let's-loop-through-our-New-England-Zipped-Shapefiles-6.1.0.10\">Now let's loop through our New England Zipped Shapefiles</a></span></li></ul></li></ul></li></ul></li><li><span><a href=\"#Glob-a-Directory-to-search-for-a-list-of-files\" data-toc-modified-id=\"Glob-a-Directory-to-search-for-a-list-of-files-7\">Glob a Directory to search for a list of files</a></span><ul class=\"toc-item\"><li><ul class=\"toc-item\"><li><ul class=\"toc-item\"><li><span><a href=\"#Import-glob\" data-toc-modified-id=\"Import-glob-7.0.0.1\">Import <code>glob</code></a></span></li><li><span><a href=\"#Search-our-data/new_england_tracts-folder-for-any-files-using-*-as-our-wildcard\" data-toc-modified-id=\"Search-our-data/new_england_tracts-folder-for-any-files-using-*-as-our-wildcard-7.0.0.2\">Search our <code>data/new_england_tracts</code> folder for any files using * as our wildcard</a></span></li><li><span><a href=\"#So-let's-say-we-wanted-just-to-glob-the-.shp-files\" data-toc-modified-id=\"So-let's-say-we-wanted-just-to-glob-the-.shp-files-7.0.0.3\">So let's say we wanted just to <code>glob</code> the <code>.shp</code> files</a></span></li><li><span><a href=\"#Let's-read-all-the-shapefiles-in-this-directory-into-GeoDataFrames-and-then-append-together.\" data-toc-modified-id=\"Let's-read-all-the-shapefiles-in-this-directory-into-GeoDataFrames-and-then-append-together.-7.0.0.4\">Let's read all the shapefiles in this directory into GeoDataFrames and then append together.</a></span></li></ul></li></ul></li></ul></li><li><span><a href=\"#Pandas-Concat\" data-toc-modified-id=\"Pandas-Concat-8\">Pandas Concat</a></span><ul class=\"toc-item\"><li><ul class=\"toc-item\"><li><ul class=\"toc-item\"><li><span><a href=\"#Let's-take-a-look-at-our-new_england_tracts-object\" data-toc-modified-id=\"Let's-take-a-look-at-our-new_england_tracts-object-8.0.0.1\">Let's take a look at our <code>new_england_tracts</code> object</a></span></li></ul></li><li><span><a href=\"#First-let's-discuss\" data-toc-modified-id=\"First-let's-discuss-8.0.1\">First let's discuss</a></span></li></ul></li></ul></li><li><span><a href=\"#Reading-Excel-files-with-Pandas\" data-toc-modified-id=\"Reading-Excel-files-with-Pandas-9\">Reading Excel files with Pandas</a></span><ul class=\"toc-item\"><li><ul class=\"toc-item\"><li><ul class=\"toc-item\"><li><span><a href=\"#You-may-need-to-pip-install-xlrd-for-reading-first\" data-toc-modified-id=\"You-may-need-to-pip-install-xlrd-for-reading-first-9.0.0.1\">You may need to <code>pip install xlrd</code> for reading first</a></span></li><li><span><a href=\"#Let's-take-a-look-at-our-DataFrame-.head()\" data-toc-modified-id=\"Let's-take-a-look-at-our-DataFrame-.head()-9.0.0.2\">Let's take a look at our DataFrame <code>.head()</code></a></span></li><li><span><a href=\"#What's-wrong-here?\" data-toc-modified-id=\"What's-wrong-here?-9.0.0.3\">What's wrong here?</a></span></li><li><span><a href=\"#Let's-look-the-file-in-Excel\" data-toc-modified-id=\"Let's-look-the-file-in-Excel-9.0.0.4\">Let's look the file in Excel</a></span></li><li><span><a href=\"#Let's-specify-the-header-row-with-the-header-argument-in-pd.read_excel()\" data-toc-modified-id=\"Let's-specify-the-header-row-with-the-header-argument-in-pd.read_excel()-9.0.0.5\">Let's specify the header row with the <code>header</code> argument in <code>pd.read_excel()</code></a></span></li></ul></li></ul></li></ul></li><li><span><a href=\"#Let's-write-a-function-to-Extract-NYC-Department-of-Finance's-Rolling-Sales-Data\" data-toc-modified-id=\"Let's-write-a-function-to-Extract-NYC-Department-of-Finance's-Rolling-Sales-Data-10\">Let's write a function to Extract NYC Department of Finance's Rolling Sales Data</a></span><ul class=\"toc-item\"><li><ul class=\"toc-item\"><li><ul class=\"toc-item\"><li><span><a href=\"#Verify-the-.shape-of-our-DataFrame-object-df_all\" data-toc-modified-id=\"Verify-the-.shape-of-our-DataFrame-object-df_all-10.0.0.1\">Verify the <code>.shape</code> of our DataFrame object <code>df_all</code></a></span></li></ul></li></ul></li></ul></li><li><span><a href=\"#Python-Mapping-Cont'd\" data-toc-modified-id=\"Python-Mapping-Cont'd-11\">Python Mapping Cont'd</a></span><ul class=\"toc-item\"><li><ul class=\"toc-item\"><li><ul class=\"toc-item\"><li><span><a href=\"#Let's-import-NYC-NTA-Boundaries-and-generate-a-GeoDataFrame\" data-toc-modified-id=\"Let's-import-NYC-NTA-Boundaries-and-generate-a-GeoDataFrame-11.0.0.1\">Let's import NYC NTA Boundaries and generate a GeoDataFrame</a></span></li></ul></li></ul></li></ul></li><li><span><a href=\"#Pickup-Here-from-last-Monday\" data-toc-modified-id=\"Pickup-Here-from-last-Monday-12\">Pickup Here from last Monday</a></span><ul class=\"toc-item\"><li><span><a href=\"#Legend\" data-toc-modified-id=\"Legend-12.1\">Legend</a></span></li><li><span><a href=\"#Annotate-Data-Source\" data-toc-modified-id=\"Annotate-Data-Source-12.2\">Annotate Data Source</a></span><ul class=\"toc-item\"><li><ul class=\"toc-item\"><li><span><a href=\"#More-on-annotation:-https://jakevdp.github.io/PythonDataScienceHandbook/04.09-text-and-annotation.html\" data-toc-modified-id=\"More-on-annotation:-https://jakevdp.github.io/PythonDataScienceHandbook/04.09-text-and-annotation.html-12.2.0.1\">More on annotation: <a href=\"https://jakevdp.github.io/PythonDataScienceHandbook/04.09-text-and-annotation.html\" target=\"_blank\">https://jakevdp.github.io/PythonDataScienceHandbook/04.09-text-and-annotation.html</a></a></span></li></ul></li></ul></li><li><span><a href=\"#Turn-off-the-axis-and-neatline\" data-toc-modified-id=\"Turn-off-the-axis-and-neatline-12.3\">Turn off the axis and neatline</a></span></li></ul></li><li><span><a href=\"#Basemaps-with-Contextily\" data-toc-modified-id=\"Basemaps-with-Contextily-13\">Basemaps with Contextily</a></span><ul class=\"toc-item\"><li><ul class=\"toc-item\"><li><ul class=\"toc-item\"><li><span><a href=\"#Change-the-Basemap\" data-toc-modified-id=\"Change-the-Basemap-13.0.0.1\">Change the Basemap</a></span></li><li><span><a href=\"#Carto-Basemaps---Positron-Light\" data-toc-modified-id=\"Carto-Basemaps---Positron-Light-13.0.0.2\">Carto Basemaps - Positron Light</a></span></li><li><span><a href=\"#Carto-Positron-Dark---No-Labels\" data-toc-modified-id=\"Carto-Positron-Dark---No-Labels-13.0.0.3\">Carto Positron Dark - No Labels</a></span></li><li><span><a href=\"#More-Carto-(CartoDB)-Basemaps\" data-toc-modified-id=\"More-Carto-(CartoDB)-Basemaps-13.0.0.4\">More Carto (CartoDB) Basemaps</a></span></li><li><span><a href=\"#More-Contextily-Basemaps\" data-toc-modified-id=\"More-Contextily-Basemaps-13.0.0.5\">More Contextily Basemaps</a></span></li></ul></li></ul></li><li><span><a href=\"#Join-our-NTA-data-to-some-Demographic-Data\" data-toc-modified-id=\"Join-our-NTA-data-to-some-Demographic-Data-13.1\">Join our NTA data to some Demographic Data</a></span><ul class=\"toc-item\"><li><ul class=\"toc-item\"><li><span><a href=\"#Read-in-Demographic-Population-Data-2000-2010-from-NYC-DCP\" data-toc-modified-id=\"Read-in-Demographic-Population-Data-2000-2010-from-NYC-DCP-13.1.0.1\">Read in Demographic Population Data 2000-2010 from NYC DCP</a></span></li><li><span><a href=\"#Shape-of-the-data\" data-toc-modified-id=\"Shape-of-the-data-13.1.0.2\">Shape of the data</a></span></li><li><span><a href=\"#List-the-columns\" data-toc-modified-id=\"List-the-columns-13.1.0.3\">List the columns</a></span></li><li><span><a href=\"#Let's-merge-our-datasets\" data-toc-modified-id=\"Let's-merge-our-datasets-13.1.0.4\">Let's merge our datasets</a></span></li><li><span><a href=\"#Describe-our-data\" data-toc-modified-id=\"Describe-our-data-13.1.0.5\">Describe our data</a></span></li><li><span><a href=\"#Plot\" data-toc-modified-id=\"Plot-13.1.0.6\">Plot</a></span></li></ul></li></ul></li></ul></li></ul></div>"
   ]
  },
  {
   "cell_type": "markdown",
   "metadata": {},
   "source": [
    "# Learning Objectives\n",
    "\n",
    "\n",
    "* Additional Mapping Functionality with Matplotlib\n",
    "* Managing data retrieval workflows with Requests, Unzipping files, concatenating DataFrames\n",
    "\n",
    "\n",
    "### Fork and Clone this Lesson Repo\n",
    "\n",
    "https://github.com/pratt-savi-810/pratt-savi-810-2020-03-lesson_11\n",
    "\n",
    "\n"
   ]
  },
  {
   "cell_type": "markdown",
   "metadata": {},
   "source": [
    "# Import Libraries\n",
    "\n",
    "Let's `import` some of the libraries we've already used. "
   ]
  },
  {
   "cell_type": "code",
   "execution_count": null,
   "metadata": {},
   "outputs": [],
   "source": [
    "import os\n",
    "import sys\n",
    "module_path = os.path.abspath(os.path.join('..'))\n",
    "if module_path not in sys.path:\n",
    "    sys.path.append(module_path)\n",
    "    \n",
    "\n",
    "from IPython.display import IFrame\n",
    "import pandas as pd\n",
    "import geopandas as gpd\n",
    "import matplotlib.pyplot as plt\n",
    "import numpy as np\n",
    "import missingno as msno\n",
    "import seaborn as sns\n",
    "import matplotlib.patches as patches\n",
    "import warnings\n",
    "import networkx as nx\n",
    "import osmnx as ox\n",
    "import requests\n",
    "import matplotlib.cm as cm\n",
    "import matplotlib.colors as colors\n",
    "ox.config(use_cache=True, log_console=True)\n",
    "warnings.filterwarnings('ignore')\n",
    "warnings.simplefilter('ignore')\n",
    "\n",
    "\n",
    "%matplotlib inline\n",
    "%load_ext autoreload\n",
    "%autoreload 2"
   ]
  },
  {
   "cell_type": "markdown",
   "metadata": {},
   "source": [
    "# Downloading Files from the internet with `urllib`.\n",
    "\n",
    "> urllib is a package that collects several modules for working with URLs. Source: https://docs.python.org/3/library/urllib.html\n",
    "\n",
    "### [How to: Fetch Internet Resources Using The urllib Package](https://docs.python.org/3/howto/urllib2.html)\n",
    "\n",
    "You can read `html` as well as actual files and data with `urllib`. \n",
    "\n",
    "A use case of this, is perhaps you need to download files based on a URL. "
   ]
  },
  {
   "cell_type": "markdown",
   "metadata": {},
   "source": [
    "#### Let's import `urllib.request`"
   ]
  },
  {
   "cell_type": "code",
   "execution_count": null,
   "metadata": {},
   "outputs": [],
   "source": []
  },
  {
   "cell_type": "markdown",
   "metadata": {},
   "source": [
    "## Downloading files with `urllib` example. \n",
    "\n",
    "#### An example of where we may want to request and download files may be Shapefiles from the US Census Website\n",
    "\n",
    "[![shapefiles](https://raw.githubusercontent.com/pratt-savi-810/images/master/census_tract_zip_files.png)](https://www2.census.gov/geo/tiger/TIGER2019/TRACT/)\n",
    "\n",
    "#### Each State Census Tract Shapefile is zipped into a .zip file and has it's own URL endpoint. \n",
    "\n",
    "The endpoints are unique based on the GEOID for the State. \n",
    "\n",
    "Example URL:\n",
    "`https://www2.census.gov/geo/tiger/TIGER2019/TRACT/tl_2019_36_tract.zip`\n",
    "\n",
    "New York State is GEOID 36. See a list of all the State FIPS codes [https://en.wikipedia.org/wiki/Federal_Information_Processing_Standard_state_code](https://en.wikipedia.org/wiki/Federal_Information_Processing_Standard_state_code). "
   ]
  },
  {
   "cell_type": "code",
   "execution_count": null,
   "metadata": {},
   "outputs": [],
   "source": [
    "file_url = 'https://www2.census.gov/geo/tiger/TIGER2019/TRACT/tl_2019_36_tract.zip'"
   ]
  },
  {
   "cell_type": "markdown",
   "metadata": {},
   "source": [
    "#### From `urllib.reqeust`, let's use `urlretrieve()` to access this url for this file and download it. "
   ]
  },
  {
   "cell_type": "code",
   "execution_count": null,
   "metadata": {},
   "outputs": [],
   "source": []
  },
  {
   "cell_type": "markdown",
   "metadata": {},
   "source": [
    "#### Now let's say we wanted to get all the State Tract Shapefiles for States in New England \n",
    "\n",
    "` ['09', '50', '33', '25', '23', '44'] ` "
   ]
  },
  {
   "cell_type": "code",
   "execution_count": null,
   "metadata": {},
   "outputs": [],
   "source": []
  },
  {
   "cell_type": "markdown",
   "metadata": {},
   "source": [
    "#### Create a loop "
   ]
  },
  {
   "cell_type": "code",
   "execution_count": null,
   "metadata": {},
   "outputs": [],
   "source": []
  },
  {
   "cell_type": "markdown",
   "metadata": {},
   "source": [
    "###### FYI: You may need a `try: except:` as sometimes url's and responses get interrupted. "
   ]
  },
  {
   "cell_type": "markdown",
   "metadata": {},
   "source": [
    "#### Unzipping `.zip` files in Python"
   ]
  },
  {
   "cell_type": "markdown",
   "metadata": {},
   "source": [
    "#### Import `zipfile`"
   ]
  },
  {
   "cell_type": "code",
   "execution_count": null,
   "metadata": {},
   "outputs": [],
   "source": []
  },
  {
   "cell_type": "markdown",
   "metadata": {},
   "source": [
    "#### Read our zipfile as a `ZipFile` "
   ]
  },
  {
   "cell_type": "code",
   "execution_count": null,
   "metadata": {},
   "outputs": [],
   "source": []
  },
  {
   "cell_type": "markdown",
   "metadata": {},
   "source": [
    "#### Let's extract our zipfile object `z`"
   ]
  },
  {
   "cell_type": "code",
   "execution_count": null,
   "metadata": {},
   "outputs": [],
   "source": []
  },
  {
   "cell_type": "markdown",
   "metadata": {},
   "source": [
    "#### Now let's loop through our New England Zipped Shapefiles"
   ]
  },
  {
   "cell_type": "code",
   "execution_count": null,
   "metadata": {},
   "outputs": [],
   "source": []
  },
  {
   "cell_type": "markdown",
   "metadata": {},
   "source": [
    "# Glob a Directory to search for a list of files\n",
    "\n",
    "> The glob module finds all the pathnames matching a specified pattern according to the rules used by the Unix shell, although results are returned in arbitrary order. No tilde expansion is done, but *, ?, and character ranges expressed with [] will be correctly matched. This is done by using the os.scandir() and fnmatch.fnmatch() functions in concert, and not by actually invoking a subshell. Note that unlike fnmatch.fnmatch(), glob treats filenames beginning with a dot (.) as special cases. (For tilde and shell variable expansion, use os.path.expanduser() and os.path.expandvars().) Source: https://docs.python.org/3/library/glob.html\n",
    "\n",
    "\n",
    "#### Import `glob`"
   ]
  },
  {
   "cell_type": "code",
   "execution_count": null,
   "metadata": {},
   "outputs": [],
   "source": []
  },
  {
   "cell_type": "markdown",
   "metadata": {},
   "source": [
    "#### Search our `data/new_england_tracts` folder for any files using * as our wildcard"
   ]
  },
  {
   "cell_type": "code",
   "execution_count": null,
   "metadata": {},
   "outputs": [],
   "source": []
  },
  {
   "cell_type": "markdown",
   "metadata": {},
   "source": [
    "#### So let's say we wanted just to `glob` the `.shp` files"
   ]
  },
  {
   "cell_type": "code",
   "execution_count": null,
   "metadata": {},
   "outputs": [],
   "source": []
  },
  {
   "cell_type": "markdown",
   "metadata": {},
   "source": [
    "#### Let's read all the shapefiles in this directory into GeoDataFrames and then append together. "
   ]
  },
  {
   "cell_type": "code",
   "execution_count": null,
   "metadata": {},
   "outputs": [],
   "source": []
  },
  {
   "cell_type": "markdown",
   "metadata": {},
   "source": [
    "# Pandas Concat \n",
    "\n",
    "> The concat() function (in the main pandas namespace) does all of the heavy lifting of performing concatenation operations along an axis while performing optional set logic (union or intersection) of the indexes (if any) on the other axes. Note that I say “if any” because there is only a single possible axis of concatenation for Series. Source: https://pandas.pydata.org/pandas-docs/stable/user_guide/merging.html\n",
    "\n",
    "![concat](https://pandas.pydata.org/pandas-docs/stable/_images/merging_concat_basic.png)\n",
    "_Source: [https://pandas.pydata.org/pandas-docs/stable/user_guide/merging.html](https://pandas.pydata.org/pandas-docs/stable/user_guide/merging.html)_\n",
    "\n"
   ]
  },
  {
   "cell_type": "code",
   "execution_count": null,
   "metadata": {},
   "outputs": [],
   "source": []
  },
  {
   "cell_type": "markdown",
   "metadata": {},
   "source": [
    "#### Let's take a look at our `new_england_tracts` object"
   ]
  },
  {
   "cell_type": "code",
   "execution_count": null,
   "metadata": {},
   "outputs": [],
   "source": []
  },
  {
   "cell_type": "markdown",
   "metadata": {},
   "source": [
    "### First let's discuss\n",
    "\n",
    "# Reading Excel files with Pandas\n",
    "\n",
    "##### Let's Look at NYC NYC Department of Finance's Rolling Sales Data Excel files."
   ]
  },
  {
   "cell_type": "code",
   "execution_count": null,
   "metadata": {
    "scrolled": true
   },
   "outputs": [],
   "source": [
    "from IPython.display import IFrame\n",
    "IFrame(src='https://www1.nyc.gov/site/finance/taxes/property-rolling-sales-data.page', width=700, height=400)"
   ]
  },
  {
   "cell_type": "markdown",
   "metadata": {},
   "source": [
    "#### You may need to `pip install xlrd` for reading first"
   ]
  },
  {
   "cell_type": "code",
   "execution_count": null,
   "metadata": {},
   "outputs": [],
   "source": [
    "# !pip install xlrd"
   ]
  },
  {
   "cell_type": "code",
   "execution_count": null,
   "metadata": {},
   "outputs": [],
   "source": []
  },
  {
   "cell_type": "markdown",
   "metadata": {},
   "source": [
    "#### Let's take a look at our DataFrame `.head()`"
   ]
  },
  {
   "cell_type": "code",
   "execution_count": null,
   "metadata": {},
   "outputs": [],
   "source": []
  },
  {
   "cell_type": "markdown",
   "metadata": {},
   "source": [
    "#### What's wrong here? "
   ]
  },
  {
   "cell_type": "markdown",
   "metadata": {},
   "source": [
    "#### Let's look the file in Excel \n",
    "\n",
    "![https://raw.githubusercontent.com/pratt-savi-810/images/master/rolling_sales_head.png](https://raw.githubusercontent.com/pratt-savi-810/images/master/rolling_sales_head.png)"
   ]
  },
  {
   "cell_type": "markdown",
   "metadata": {},
   "source": [
    "#### Let's specify the header row with the `header` argument in `pd.read_excel()`\n",
    "\n",
    "Remember, Python uses 0 index, Excel uses 1 for first row. "
   ]
  },
  {
   "cell_type": "code",
   "execution_count": null,
   "metadata": {},
   "outputs": [],
   "source": []
  },
  {
   "cell_type": "code",
   "execution_count": null,
   "metadata": {},
   "outputs": [],
   "source": []
  },
  {
   "cell_type": "markdown",
   "metadata": {},
   "source": [
    "# Let's write a function to Extract NYC Department of Finance's Rolling Sales Data "
   ]
  },
  {
   "cell_type": "code",
   "execution_count": null,
   "metadata": {},
   "outputs": [],
   "source": [
    "file_urls = [\n",
    "    'https://www1.nyc.gov/assets/finance/downloads/pdf/rolling_sales/rollingsales_manhattan.xls',\n",
    "    'https://www1.nyc.gov/assets/finance/downloads/pdf/rolling_sales/rollingsales_bronx.xls',\n",
    "    'https://www1.nyc.gov/assets/finance/downloads/pdf/rolling_sales/rollingsales_brooklyn.xls',\n",
    "    'https://www1.nyc.gov/assets/finance/downloads/pdf/rolling_sales/rollingsales_queens.xls', \n",
    "    'https://www1.nyc.gov/assets/finance/downloads/pdf/rolling_sales/rollingsales_statenisland.xls', \n",
    "]"
   ]
  },
  {
   "cell_type": "code",
   "execution_count": null,
   "metadata": {},
   "outputs": [],
   "source": [
    "\n"
   ]
  },
  {
   "cell_type": "code",
   "execution_count": null,
   "metadata": {},
   "outputs": [],
   "source": []
  },
  {
   "cell_type": "markdown",
   "metadata": {},
   "source": [
    "#### Verify the `.shape` of our DataFrame object `df_all`"
   ]
  },
  {
   "cell_type": "code",
   "execution_count": null,
   "metadata": {},
   "outputs": [],
   "source": []
  },
  {
   "cell_type": "markdown",
   "metadata": {},
   "source": [
    "# Python Mapping Cont'd"
   ]
  },
  {
   "cell_type": "markdown",
   "metadata": {},
   "source": [
    "#### Let's import NYC NTA Boundaries and generate a GeoDataFrame"
   ]
  },
  {
   "cell_type": "code",
   "execution_count": null,
   "metadata": {},
   "outputs": [],
   "source": [
    "nyc_nta_geojson = 'https://data.cityofnewyork.us/api/geospatial/cpf4-rkhq?method=export&format=GeoJSON'\n",
    "\n",
    "nta_gdf = gpd.read_file(nyc_nta_geojson)\n",
    "nta_gdf.to_crs(epsg=2263, inplace=True)"
   ]
  },
  {
   "cell_type": "markdown",
   "metadata": {},
   "source": [
    "# Pickup Here from last Monday\n",
    "\n",
    "## Legend\n",
    "\n",
    "PyPlot Legends : https://matplotlib.org/3.2.1/api/_as_gen/matplotlib.pyplot.legend.html\n"
   ]
  },
  {
   "cell_type": "code",
   "execution_count": null,
   "metadata": {},
   "outputs": [],
   "source": [
    "fig, ax = plt.subplots(figsize=(14, 10))\n",
    "\n",
    "### plot code here\n",
    "\n",
    "ax.set_title('Map Title', fontdict={'size': 30});"
   ]
  },
  {
   "cell_type": "markdown",
   "metadata": {},
   "source": [
    "## Annotate Data Source\n"
   ]
  },
  {
   "cell_type": "code",
   "execution_count": null,
   "metadata": {},
   "outputs": [],
   "source": [
    "fig, ax = plt.subplots(figsize=(14, 10))\n",
    "\n",
    "nta_gdf.plot(\n",
    "    ax=ax, \n",
    "    column='boro_name', \n",
    "    legend=True, \n",
    "    cmap='Dark2', \n",
    "    legend_kwds={\n",
    "        'loc': 2,\n",
    "        'shadow': True,\n",
    "        # 'facecolor': 'lightgray',\n",
    "    })\n",
    "\n",
    "\n",
    "### annotate code here\n",
    "\n",
    "ax.set_title('Map Title', fontdict={'size': 30});"
   ]
  },
  {
   "cell_type": "markdown",
   "metadata": {},
   "source": [
    "#### More on annotation: https://jakevdp.github.io/PythonDataScienceHandbook/04.09-text-and-annotation.html"
   ]
  },
  {
   "cell_type": "markdown",
   "metadata": {},
   "source": [
    "## Turn off the axis and neatline "
   ]
  },
  {
   "cell_type": "code",
   "execution_count": null,
   "metadata": {},
   "outputs": [],
   "source": [
    "fig, ax = plt.subplots(figsize=(14, 10))\n",
    "\n",
    "nta_gdf.plot(\n",
    "    ax=ax, \n",
    "    column='boro_name', \n",
    "    legend=True, \n",
    "    cmap='Dark2', \n",
    "    legend_kwds={\n",
    "        'loc': 2,\n",
    "        'shadow': True,\n",
    "        # 'facecolor': 'lightgray',\n",
    "    })\n",
    "\n",
    "ax.annotate(\n",
    "    'Source: NYC Open Data', \n",
    "    xy=(10, 10),  # points from lower left\n",
    "    xycoords='axes points',  # select where \n",
    "    size=10, \n",
    ")\n",
    "\n",
    "### axis False code here\n",
    "\n",
    "ax.set_title('New York City Boroughs', fontdict={'size': 30});"
   ]
  },
  {
   "cell_type": "code",
   "execution_count": null,
   "metadata": {},
   "outputs": [],
   "source": [
    "fig, ax = plt.subplots(figsize=(14, 10))\n",
    "\n",
    "nta_gdf.plot(\n",
    "    ax=ax, \n",
    "    column='boro_name', \n",
    "    legend=True, \n",
    "    cmap='Dark2', \n",
    "    legend_kwds={\n",
    "        'loc': 2,\n",
    "        'shadow': True,\n",
    "        # 'facecolor': 'lightgray',\n",
    "    })\n",
    "\n",
    "ax.annotate(\n",
    "    'Source: NYC Open Data', \n",
    "    xy=(10, 10),  # points from lower left\n",
    "    xycoords='axes points',  # select where \n",
    "    size=10, \n",
    ")\n",
    "\n",
    "#### Axis off code here\n",
    "\n",
    "ax.set_title('New York City Boroughs', fontdict={'size': 30});"
   ]
  },
  {
   "cell_type": "markdown",
   "metadata": {},
   "source": [
    "# Basemaps with Contextily\n",
    "\n",
    "> contextily is a small Python 3 package to retrieve and write to disk tile maps from the internet into geospatial raster files. Bounding boxes can be passed in both WGS84 (EPSG:4326) and Spheric Mercator (EPSG:3857). See the notebook contextily_guide.ipynb for usage. Source: https://github.com/darribas/contextily"
   ]
  },
  {
   "cell_type": "code",
   "execution_count": null,
   "metadata": {},
   "outputs": [],
   "source": []
  },
  {
   "cell_type": "code",
   "execution_count": null,
   "metadata": {},
   "outputs": [],
   "source": [
    "fig, ax = plt.subplots(figsize=(14, 14))\n",
    "\n",
    "nta_gdf.to_crs(epsg=3857).plot(\n",
    "    ax=ax, \n",
    "    column='boro_name', \n",
    "    legend=True, \n",
    "    cmap='Dark2', \n",
    "    alpha=0.7,\n",
    "    legend_kwds={\n",
    "        'loc': 2,\n",
    "        'shadow': True,\n",
    "    })\n",
    "\n",
    "\n",
    "### Contextily code here\n",
    "\n",
    "ax.axis('off')\n",
    "\n",
    "ax.set_title('New York City Boroughs', fontdict={'size': 20});"
   ]
  },
  {
   "cell_type": "markdown",
   "metadata": {},
   "source": [
    "#### Change the Basemap"
   ]
  },
  {
   "cell_type": "code",
   "execution_count": null,
   "metadata": {},
   "outputs": [],
   "source": [
    "fig, ax = plt.subplots(figsize=(14, 14))\n",
    "\n",
    "nta_gdf.to_crs(epsg=3857).plot(\n",
    "    ax=ax, \n",
    "    column='boro_name', \n",
    "    legend=True, \n",
    "    cmap='Dark2', \n",
    "    alpha=0.7,\n",
    "    legend_kwds={\n",
    "        'loc': 2,\n",
    "        'shadow': True,\n",
    "    })\n",
    "\n",
    "### Contextily code here\n",
    "\n",
    "ax.axis('off')\n",
    "\n",
    "ax.set_title('New York City Boroughs', fontdict={'size': 20});"
   ]
  },
  {
   "cell_type": "markdown",
   "metadata": {},
   "source": [
    "#### Carto Basemaps - Positron Light"
   ]
  },
  {
   "cell_type": "code",
   "execution_count": null,
   "metadata": {},
   "outputs": [],
   "source": [
    "fig, ax = plt.subplots(figsize=(14, 14))\n",
    "\n",
    "nta_gdf.to_crs(epsg=3857).plot(\n",
    "    ax=ax, \n",
    "    column='boro_name', \n",
    "    legend=True, \n",
    "    cmap='Dark2', \n",
    "    alpha=0.7,\n",
    "    legend_kwds={\n",
    "        'loc': 2,\n",
    "        'shadow': True,\n",
    "    })\n",
    "\n",
    "### Contextily code here\n",
    "\n",
    "ax.axis('off')\n",
    "\n",
    "ax.set_title('New York City Boroughs', fontdict={'size': 20});"
   ]
  },
  {
   "cell_type": "markdown",
   "metadata": {},
   "source": [
    "#### Carto Positron Dark - No Labels"
   ]
  },
  {
   "cell_type": "code",
   "execution_count": null,
   "metadata": {},
   "outputs": [],
   "source": [
    "fig, ax = plt.subplots(figsize=(14, 14))\n",
    "\n",
    "nta_gdf.to_crs(epsg=3857).plot(\n",
    "    ax=ax, \n",
    "    column='boro_name', \n",
    "    legend=True, \n",
    "    cmap='Dark2', \n",
    "    alpha=0.7,\n",
    "    legend_kwds={\n",
    "        'loc': 2,\n",
    "        'shadow': True,\n",
    "    })\n",
    "\n",
    "### Contextily code here\n",
    "\n",
    "ax.axis('off')\n",
    "\n",
    "ax.set_title('New York City Boroughs', fontdict={'size': 20});"
   ]
  },
  {
   "cell_type": "markdown",
   "metadata": {},
   "source": [
    "#### More Carto (CartoDB) Basemaps\n",
    "\n",
    "https://github.com/CartoDB/basemap-styles\n",
    "\n",
    "\n",
    "#### More Contextily Basemaps\n",
    "\n",
    "https://github.com/darribas/contextily/blob/master/contextily/tile_providers.py"
   ]
  },
  {
   "cell_type": "markdown",
   "metadata": {},
   "source": [
    "## Join our NTA data to some Demographic Data"
   ]
  },
  {
   "cell_type": "code",
   "execution_count": null,
   "metadata": {},
   "outputs": [],
   "source": []
  },
  {
   "cell_type": "markdown",
   "metadata": {},
   "source": [
    "#### Read in Demographic Population Data 2000-2010 from NYC DCP "
   ]
  },
  {
   "cell_type": "code",
   "execution_count": null,
   "metadata": {},
   "outputs": [],
   "source": []
  },
  {
   "cell_type": "markdown",
   "metadata": {},
   "source": [
    "#### Shape of the data"
   ]
  },
  {
   "cell_type": "code",
   "execution_count": null,
   "metadata": {},
   "outputs": [],
   "source": []
  },
  {
   "cell_type": "markdown",
   "metadata": {},
   "source": [
    "#### List the columns"
   ]
  },
  {
   "cell_type": "code",
   "execution_count": null,
   "metadata": {},
   "outputs": [],
   "source": []
  },
  {
   "cell_type": "markdown",
   "metadata": {},
   "source": [
    "#### Let's merge our datasets"
   ]
  },
  {
   "cell_type": "code",
   "execution_count": null,
   "metadata": {},
   "outputs": [],
   "source": []
  },
  {
   "cell_type": "markdown",
   "metadata": {},
   "source": [
    "#### Describe our data"
   ]
  },
  {
   "cell_type": "code",
   "execution_count": null,
   "metadata": {},
   "outputs": [],
   "source": []
  },
  {
   "cell_type": "markdown",
   "metadata": {},
   "source": [
    "#### Plot"
   ]
  },
  {
   "cell_type": "code",
   "execution_count": null,
   "metadata": {},
   "outputs": [],
   "source": []
  },
  {
   "cell_type": "code",
   "execution_count": null,
   "metadata": {},
   "outputs": [],
   "source": []
  },
  {
   "cell_type": "code",
   "execution_count": null,
   "metadata": {},
   "outputs": [],
   "source": []
  }
 ],
 "metadata": {
  "kernelspec": {
   "display_name": "Python 3",
   "language": "python",
   "name": "python3"
  },
  "language_info": {
   "codemirror_mode": {
    "name": "ipython",
    "version": 3
   },
   "file_extension": ".py",
   "mimetype": "text/x-python",
   "name": "python",
   "nbconvert_exporter": "python",
   "pygments_lexer": "ipython3",
   "version": "3.6.10"
  },
  "toc": {
   "base_numbering": 1,
   "nav_menu": {},
   "number_sections": false,
   "sideBar": true,
   "skip_h1_title": false,
   "title_cell": "Table of Contents",
   "title_sidebar": "Contents",
   "toc_cell": true,
   "toc_position": {
    "height": "856.364px",
    "left": "34px",
    "top": "110.284px",
    "width": "177.833px"
   },
   "toc_section_display": true,
   "toc_window_display": true
  }
 },
 "nbformat": 4,
 "nbformat_minor": 2
}
